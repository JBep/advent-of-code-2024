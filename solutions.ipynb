{
 "cells": [
  {
   "cell_type": "code",
   "execution_count": 2,
   "metadata": {},
   "outputs": [],
   "source": [
    "from utils.aoc_input_reader import read_input"
   ]
  },
  {
   "cell_type": "markdown",
   "metadata": {},
   "source": [
    "# Day 1"
   ]
  },
  {
   "cell_type": "code",
   "execution_count": null,
   "metadata": {},
   "outputs": [
    {
     "name": "stdout",
     "output_type": "stream",
     "text": [
      "Solution to part 1 is: 2742123\n",
      "Solution to part 2 is: 21328497\n"
     ]
    }
   ],
   "source": [
    "# Part 1\n",
    "input = read_input(1, 2024)\n",
    "\n",
    "list1 = []\n",
    "list2 = []\n",
    "for line in input:\n",
    "    first_space = line.find(' ')\n",
    "    list1.append(int(line[:first_space]))\n",
    "    list2.append(int(line[first_space+1:].strip()))\n",
    "    \n",
    "list1.sort()\n",
    "list2.sort()    \n",
    "\n",
    "distances = [abs(n1-n2) for n1, n2 in zip(list1, list2)]\n",
    "print(f\"Solution to part 1 is: {sum(distances)}\")\n",
    "\n",
    "# Part 2\n",
    "similarity_score = 0\n",
    "for item1 in list1:\n",
    "    count = 0\n",
    "    for item2 in list2:\n",
    "        if item1 == item2:\n",
    "            count += 1\n",
    "    \n",
    "    similarity_score += item1*count\n",
    "    \n",
    "print(f\"Solution to part 2 is: {similarity_score}\")\n"
   ]
  },
  {
   "cell_type": "markdown",
   "metadata": {},
   "source": [
    "# Day 2"
   ]
  },
  {
   "cell_type": "code",
   "execution_count": 16,
   "metadata": {},
   "outputs": [
    {
     "name": "stdout",
     "output_type": "stream",
     "text": [
      "Reading data from file.\n",
      "Solution to part 1 is: 421\n",
      "Solution to part 2 is: 476\n"
     ]
    }
   ],
   "source": [
    "import itertools\n",
    "\n",
    "\n",
    "input = read_input(2, 2024)\n",
    "input\n",
    "\n",
    "def report_is_safe(report: list[int]):\n",
    "    \n",
    "    if report[0] == report[1]:\n",
    "        return False\n",
    "    elif report[0] > report[1]:\n",
    "        decreasing = True\n",
    "    else:\n",
    "        decreasing = False\n",
    "    \n",
    "    last_item = report[0]\n",
    "    for item in report[1:]:\n",
    "        if decreasing:\n",
    "            if item >= last_item:\n",
    "                return False\n",
    "        else:\n",
    "            if item <= last_item:\n",
    "                return False\n",
    "            \n",
    "        if abs(item - last_item) > 3:\n",
    "            return False\n",
    "        last_item = item\n",
    "    \n",
    "    return True\n",
    "    \n",
    "count = 0    \n",
    "for report in input:\n",
    "    report_temp = [int(item) for item in report.split(\" \")]\n",
    "\n",
    "    if report_is_safe(report_temp):\n",
    "        count += 1\n",
    "\n",
    "print(f\"Solution to part 1 is: {count}\")\n",
    "\n",
    "# Part 2\n",
    "count = 0    \n",
    "for report in input:\n",
    "    report_temp = [int(item) for item in report.split(\" \")]\n",
    "\n",
    "    if report_is_safe(report_temp):\n",
    "        count += 1\n",
    "        continue\n",
    "\n",
    "    for comb in itertools.combinations(report_temp, len(report_temp)-1):\n",
    "        if report_is_safe(comb):\n",
    "            count += 1\n",
    "            break\n",
    "print(f\"Solution to part 2 is: {count}\")"
   ]
  },
  {
   "cell_type": "code",
   "execution_count": 11,
   "metadata": {},
   "outputs": [
    {
     "data": {
      "text/plain": [
       "[28, 27, 24, 22, 19]"
      ]
     },
     "execution_count": 11,
     "metadata": {},
     "output_type": "execute_result"
    }
   ],
   "source": [
    "report_temp"
   ]
  },
  {
   "cell_type": "code",
   "execution_count": 15,
   "metadata": {},
   "outputs": [
    {
     "data": {
      "text/plain": [
       "[(28, 27, 24, 22),\n",
       " (28, 27, 24, 19),\n",
       " (28, 27, 22, 19),\n",
       " (28, 24, 22, 19),\n",
       " (27, 24, 22, 19)]"
      ]
     },
     "execution_count": 15,
     "metadata": {},
     "output_type": "execute_result"
    }
   ],
   "source": [
    "import itertools\n",
    "\n",
    "\n",
    "list(itertools.combinations(report_temp, 4))"
   ]
  },
  {
   "cell_type": "code",
   "execution_count": null,
   "metadata": {},
   "outputs": [],
   "source": []
  }
 ],
 "metadata": {
  "kernelspec": {
   "display_name": ".venv",
   "language": "python",
   "name": "python3"
  },
  "language_info": {
   "codemirror_mode": {
    "name": "ipython",
    "version": 3
   },
   "file_extension": ".py",
   "mimetype": "text/x-python",
   "name": "python",
   "nbconvert_exporter": "python",
   "pygments_lexer": "ipython3",
   "version": "3.12.0"
  }
 },
 "nbformat": 4,
 "nbformat_minor": 2
}
