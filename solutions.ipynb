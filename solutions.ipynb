{
 "cells": [
  {
   "cell_type": "code",
   "execution_count": 1,
   "metadata": {},
   "outputs": [],
   "source": [
    "from utils.aoc_input_reader import read_input"
   ]
  },
  {
   "cell_type": "markdown",
   "metadata": {},
   "source": [
    "# Day 1"
   ]
  },
  {
   "cell_type": "code",
   "execution_count": 6,
   "metadata": {},
   "outputs": [
    {
     "name": "stdout",
     "output_type": "stream",
     "text": [
      "Reading data from file.\n",
      "Solution to part 1 is: 2742123\n",
      "Solution to part 2 is: 21328497\n"
     ]
    }
   ],
   "source": [
    "# Part 1\n",
    "input = read_input(1, 2024)\n",
    "\n",
    "list1 = []\n",
    "list2 = []\n",
    "for line in input:\n",
    "    first_space = line.find(' ')\n",
    "    list1.append(int(line[:first_space]))\n",
    "    list2.append(int(line[first_space+1:].strip()))\n",
    "    \n",
    "list1.sort()\n",
    "list2.sort()    \n",
    "\n",
    "distances = [abs(n1-n2) for n1, n2 in zip(list1, list2)]\n",
    "print(f\"Solution to part 1 is: {sum(distances)}\")\n",
    "\n",
    "# Part 2\n",
    "similarity_score = 0\n",
    "for item1 in list1:\n",
    "    count = 0\n",
    "    for item2 in list2:\n",
    "        if item1 == item2:\n",
    "            count += 1\n",
    "    \n",
    "    similarity_score += item1*count\n",
    "    \n",
    "print(f\"Solution to part 2 is: {similarity_score}\")\n"
   ]
  },
  {
   "cell_type": "markdown",
   "metadata": {},
   "source": [
    "# Day 2"
   ]
  },
  {
   "cell_type": "code",
   "execution_count": null,
   "metadata": {},
   "outputs": [
    {
     "name": "stdout",
     "output_type": "stream",
     "text": [
      "Reading data from file.\n",
      "Solution to part 1 is: 421\n",
      "Solution to part 2 is: 476\n"
     ]
    }
   ],
   "source": [
    "import itertools\n",
    "\n",
    "\n",
    "input = read_input(2, 2024)\n",
    "input\n",
    "\n",
    "def report_is_safe(report: list[int]):\n",
    "    # Rules are that all values should be either increasing or decreasing, \n",
    "    # and that the difference between two consecutive values should be at least 1 and at most 3\n",
    "    if report[0] == report[1]:\n",
    "        return False\n",
    "    elif report[0] > report[1]:\n",
    "        decreasing = True\n",
    "    else:\n",
    "        decreasing = False\n",
    "    \n",
    "    last_item = report[0]\n",
    "    for item in report[1:]:\n",
    "        if decreasing:\n",
    "            if item >= last_item:\n",
    "                return False\n",
    "        else:\n",
    "            if item <= last_item:\n",
    "                return False\n",
    "    \n",
    "        if abs(item - last_item) > 3:\n",
    "            return False\n",
    "        last_item = item\n",
    "    \n",
    "    return True\n",
    "    \n",
    "# Part 1\n",
    "count = 0    \n",
    "for report in input:\n",
    "    report_temp = [int(item) for item in report.split(\" \")]\n",
    "\n",
    "    if report_is_safe(report_temp):\n",
    "        count += 1\n",
    "\n",
    "print(f\"Solution to part 1 is: {count}\")\n",
    "\n",
    "# Part 2\n",
    "# A report where removing one value makes it safe is safe, even if the original report is unsafe\n",
    "count = 0    \n",
    "for report in input:\n",
    "    report_temp = [int(item) for item in report.split(\" \")]\n",
    "\n",
    "    if report_is_safe(report_temp):\n",
    "        count += 1\n",
    "        continue\n",
    "\n",
    "    for comb in itertools.combinations(report_temp, len(report_temp)-1):\n",
    "        if report_is_safe(comb):\n",
    "            count += 1\n",
    "            break\n",
    "print(f\"Solution to part 2 is: {count}\")"
   ]
  },
  {
   "cell_type": "markdown",
   "metadata": {},
   "source": [
    "# Day 3"
   ]
  },
  {
   "cell_type": "code",
   "execution_count": 6,
   "metadata": {},
   "outputs": [
    {
     "name": "stdout",
     "output_type": "stream",
     "text": [
      "Reading data from file.\n",
      "Solution to part 1 is: 189600467\n",
      "Solution to part 2 is: 107069718\n"
     ]
    }
   ],
   "source": [
    "import re\n",
    "\n",
    "\n",
    "input = read_input(3, 2024)\n",
    "# Part 1\n",
    "regex = re.compile(r\"mul\\((\\d{1,3}),(\\d{1,3})\\)\")\n",
    "matches = [match for line in input for match in regex.findall(line)]\n",
    "total_sum = sum([int(match[0])*int(match[1]) for match in matches])\n",
    "print(f\"Solution to part 1 is: {total_sum}\")\n",
    "\n",
    "# Part 2\n",
    "complete_input = \"\".join(input)\n",
    "temp_input = complete_input.split(\"don't()\")\n",
    "enabled_input = temp_input[0]\n",
    "for input_part in temp_input[1:]:\n",
    "    possible_input = input_part.split(\"do()\", 1)\n",
    "    if len(possible_input) == 2:\n",
    "        enabled_input += possible_input[1]\n",
    "        \n",
    "total_sum = sum([int(match[0])*int(match[1]) for match in regex.findall(enabled_input)])\n",
    "print(f\"Solution to part 2 is: {total_sum}\")"
   ]
  },
  {
   "cell_type": "markdown",
   "metadata": {},
   "source": [
    "# Day 4"
   ]
  },
  {
   "cell_type": "code",
   "execution_count": 35,
   "metadata": {},
   "outputs": [
    {
     "name": "stdout",
     "output_type": "stream",
     "text": [
      "Reading data from file.\n",
      "Solution to part 1 is: 2427\n",
      "Solution to part 2 is: 1900\n"
     ]
    }
   ],
   "source": [
    "input = read_input(4, 2024)\n",
    "\n",
    "# Part 1\n",
    "# Horizontal\n",
    "xmas_count = 0\n",
    "for line in input:\n",
    "    temp_count = line.count(\"XMAS\") + line.count(\"SAMX\")\n",
    "    xmas_count += temp_count\n",
    "\n",
    "# Vertical\n",
    "transposed_input = list(zip(*input))\n",
    "transposed_input = [\"\".join(line) for line in transposed_input]\n",
    "for line in transposed_input:\n",
    "    temp_count = line.count(\"XMAS\") + line.count(\"SAMX\")\n",
    "    xmas_count += temp_count\n",
    "\n",
    "# Diagonal\n",
    "string_length = len(input[0])\n",
    "padded_input = [\"\".join('p' for i in range(string_length)) for j in range(string_length)]\n",
    "padded_input += input\n",
    "padded_input += [\"\".join('p' for i in range(string_length)) for j in range(string_length)]\n",
    "\n",
    "diagonals = []\n",
    "for i in range(len(padded_input)-string_length):\n",
    "    diagonal = []\n",
    "    diagonal2 = []\n",
    "    for j in range(string_length):\n",
    "        line_idx = i\n",
    "        char_idx = j\n",
    "        char2_idx = string_length-j-1\n",
    "        diagonal.append(padded_input[line_idx+j][char_idx])\n",
    "        diagonal2.append(padded_input[line_idx+j][char2_idx])\n",
    "    diagonals.append(\"\".join(diagonal))\n",
    "    diagonals.append(\"\".join(diagonal2))\n",
    "\n",
    "for line in diagonals:\n",
    "    temp_count = line.count(\"XMAS\") + line.count(\"SAMX\")\n",
    "    xmas_count += temp_count\n",
    "\n",
    "print(f\"Solution to part 1 is: {xmas_count}\")\n",
    "\n",
    "# Part 2\n",
    "def is_xmas_pattern(pattern = list[list[str]]):\n",
    "    if len(pattern) != 3:\n",
    "        return False\n",
    "    if len(pattern[0]) != 3:\n",
    "        return False   \n",
    "    \n",
    "    if pattern[1][1] != \"A\":\n",
    "        return False\t\n",
    "    \n",
    "    if {pattern[0][0],pattern[2][2]} != {\"M\",\"S\"}:\n",
    "        return False\n",
    "    if {pattern[0][2],pattern[2][0]} != {\"M\",\"S\"}:\n",
    "        return False\n",
    "    return True\n",
    "\n",
    "xmas_count = 0\n",
    "for i in range(len(input)-2):\n",
    "    for j in range(len(input[0])-2):\n",
    "        pattern = [list(input[i][j:j+3]), list(input[i+1][j:j+3]), list(input[i+2][j:j+3])]\n",
    "        if is_xmas_pattern(pattern):\n",
    "            xmas_count += 1\n",
    "\n",
    "\n",
    "print(f\"Solution to part 2 is: {xmas_count}\")    "
   ]
  },
  {
   "cell_type": "markdown",
   "metadata": {},
   "source": [
    "# Day 5"
   ]
  },
  {
   "cell_type": "code",
   "execution_count": null,
   "metadata": {},
   "outputs": [
    {
     "name": "stdout",
     "output_type": "stream",
     "text": [
      "Reading data from file.\n",
      "Solution to part 1 is: 6505\n",
      "Solution to part 2 is:  6897\n"
     ]
    }
   ],
   "source": [
    "from dataclasses import dataclass\n",
    "from tracemalloc import start\n",
    "from typing import List\n",
    "input = read_input(5, 2024)\n",
    "#input = test_input\n",
    "\n",
    "split_index = input.index(\"\")\n",
    "input_rules = input[:split_index]\n",
    "input_data = input[split_index+1:]\n",
    "\n",
    "@dataclass\n",
    "class OrderingRule:\n",
    "    page: int\n",
    "    pages_before: List[int]\n",
    "    pages_after: List[int]\n",
    "    \n",
    "ordering_rules = {}\n",
    "for line in input_rules:\n",
    "    first, second = line.split(\"|\")\n",
    "    if first in ordering_rules:\n",
    "        ordering_rules[first].pages_after.append(second)\n",
    "    else:\n",
    "        ordering_rules[first] = OrderingRule(first, [], [second])\n",
    "        \n",
    "    if second in ordering_rules:\n",
    "        ordering_rules[second].pages_before.append(first)\n",
    "    else:\n",
    "        ordering_rules[second] = OrderingRule(second, [first], [])\n",
    "        \n",
    "def pages_in_correct_order(pages):\n",
    "    for i,page in enumerate(pages):\n",
    "        pages_before = pages[:i]\n",
    "        pages_after = pages[i+1:]\n",
    "        if any([p in ordering_rules[page].pages_before for p in pages_after]):\n",
    "            return False\n",
    "        if any([p in ordering_rules[page].pages_after for p in pages_before]):\n",
    "            return False\n",
    "    return True\n",
    "\n",
    "sum = 0\n",
    "for line in input_data:\n",
    "    pages = line.split(\",\")\n",
    "    if pages_in_correct_order(pages):\n",
    "        middle_index = len(pages)//2\n",
    "        sum += int(pages[middle_index])\n",
    "\n",
    "print(f\"Solution to part 1 is: {sum}\")\n",
    "\n",
    "# Part 2\n",
    "def fix_order(start_index,pages):\n",
    "    if pages_in_correct_order(pages):\n",
    "        return pages\n",
    "    \n",
    "    next_index = start_index+1\n",
    "    if next_index == len(pages):\n",
    "        next_index = 0\n",
    "    for i,page in enumerate(pages):\n",
    "        if i < start_index:\n",
    "            continue\n",
    "        pages_before = pages[:i]\n",
    "        pages_after = pages[i+1:]\n",
    "        if i != 0 and any([p in ordering_rules[page].pages_after for p in pages_before]):\n",
    "            temp_pages = pages.copy()\n",
    "            tmp = temp_pages[i]\n",
    "            temp_pages[i] = temp_pages[i-1]\n",
    "            temp_pages[i-1] = tmp\n",
    "            return fix_order(next_index,temp_pages)\n",
    "\n",
    "        if i != len(pages) and any([p in ordering_rules[page].pages_before for p in pages_after]):\n",
    "            temp_pages = pages.copy()\n",
    "            tmp = temp_pages[i]\n",
    "            temp_pages[i] = temp_pages[i+1]\n",
    "            temp_pages[i+1] = tmp\n",
    "            return fix_order(next_index,temp_pages)\n",
    "    return fix_order(next_index,pages)\n",
    "\n",
    "\n",
    "sum = 0\n",
    "for line in input_data:\n",
    "    pages = line.split(\",\")\n",
    "    if not pages_in_correct_order(pages):\n",
    "        ordered_pages = fix_order(0,pages)\n",
    "        middle_index = len(ordered_pages)//2\n",
    "        sum += int(ordered_pages[middle_index])\n",
    "print(f\"Solution to part 2 is: {sum}\")"
   ]
  },
  {
   "cell_type": "markdown",
   "metadata": {},
   "source": [
    "# Day 6"
   ]
  },
  {
   "cell_type": "code",
   "execution_count": null,
   "metadata": {},
   "outputs": [],
   "source": []
  }
 ],
 "metadata": {
  "kernelspec": {
   "display_name": ".venv",
   "language": "python",
   "name": "python3"
  },
  "language_info": {
   "codemirror_mode": {
    "name": "ipython",
    "version": 3
   },
   "file_extension": ".py",
   "mimetype": "text/x-python",
   "name": "python",
   "nbconvert_exporter": "python",
   "pygments_lexer": "ipython3",
   "version": "3.12.0"
  }
 },
 "nbformat": 4,
 "nbformat_minor": 2
}
